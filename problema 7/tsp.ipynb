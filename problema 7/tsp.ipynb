{
 "cells": [
  {
   "attachments": {},
   "cell_type": "markdown",
   "metadata": {},
   "source": [
    "<h3> creamos un objeto puerto que contiene el nombre, el calado maximo y el peso de la carga del puerto"
   ]
  },
  {
   "cell_type": "code",
   "execution_count": 2,
   "metadata": {},
   "outputs": [],
   "source": [
    "import sys\n",
    "\n",
    "class puerto:\n",
    "    def __init__(self, puerto, calmax, peso):\n",
    "        self.id = puerto\n",
    "        self.calmax = calmax \n",
    "        self.peso = peso"
   ]
  },
  {
   "attachments": {},
   "cell_type": "markdown",
   "metadata": {},
   "source": [
    "<h3>funcion que sirve para calcular el calado del barco si asumimos que el peso principal del barco son 10 toneladas"
   ]
  },
  {
   "cell_type": "code",
   "execution_count": 3,
   "metadata": {},
   "outputs": [],
   "source": [
    "def calcular_calado(carga_extra):\n",
    "    peso_actual = 10 + carga_extra # Peso del barco en toneladas + el peso extra de los puertos\n",
    "    densidad_agua = 1000  # Densidad del agua en kilogramos por metro cúbico\n",
    "    peso_barco_kilos = peso_actual * 1000  # Convertir toneladas a kilogramos\n",
    "\n",
    "    # Calcula el calado utilizando la fórmula de Arquímedes: calado = peso / (densidad * gravedad)\n",
    "    calado = peso_barco_kilos / (densidad_agua * 9.8)  # Se asume una gravedad de 9.8 m/s^2\n",
    "    return round(calado,2)"
   ]
  },
  {
   "attachments": {},
   "cell_type": "markdown",
   "metadata": {},
   "source": [
    "<h3>guardamos la lista de distancia dentro de la funcion pero también se podria haber dado de manera externa y calculamos la distancia"
   ]
  },
  {
   "cell_type": "code",
   "execution_count": 4,
   "metadata": {},
   "outputs": [],
   "source": [
    "def calcular_distancia(puerto1, puerto2, distancias):\n",
    "    return distancias.get((puerto1, puerto2), float('inf'))"
   ]
  },
  {
   "attachments": {},
   "cell_type": "markdown",
   "metadata": {},
   "source": [
    "<h3>Funcion que utiliza backtracking con poda para poder llegar a la solción del problema"
   ]
  },
  {
   "cell_type": "code",
   "execution_count": 5,
   "metadata": {},
   "outputs": [],
   "source": [
    "#usamos una funcion dentro de otra funcion para no usar tanto codigo en el main y poder retornar las variables finales como el peso final, la distancia y la ruta\n",
    "def viajero_ambulante_backtracking(puertos, distancias):\n",
    "    n = len(puertos)\n",
    "    visitado = [False] * n\n",
    "    ruta_actual = [0] * (n + 1)\n",
    "    mejor_ruta = [0] * (n + 1)\n",
    "    mejor_distancia = sys.maxsize\n",
    "    peso_final = 0\n",
    "    \n",
    "    #funcion que realiza el backtracking con poda\n",
    "    def backtrack(pos, distancia_actual, peso_extra):\n",
    "        nonlocal mejor_distancia\n",
    "        nonlocal peso_final\n",
    "\n",
    "        if pos == n:\n",
    "            distancia = distancia_actual + calcular_distancia(puertos[ruta_actual[pos - 1]].id, puertos[0].id, distancias)\n",
    "            if distancia < mejor_distancia:\n",
    "                mejor_distancia = distancia \n",
    "                mejor_ruta[:] = ruta_actual[:]\n",
    "                peso_final = peso_extra\n",
    "            return\n",
    "\n",
    "        for i in range(n):\n",
    "            #Restriccion que dice si un puerto no fue visitado y si el peso que tiene el puerto + el peso que ya esta dentro del barco no excede el calado maximo del puerto\n",
    "            if not visitado[i] and calcular_calado(peso_extra+puertos[i].peso) < puertos[i].calmax:\n",
    "                nuevo_peso = peso_extra + puertos[i].peso\n",
    "                visitado[i] = True\n",
    "                ruta_actual[pos] = i\n",
    "                nueva_distancia = distancia_actual + calcular_distancia(puertos[ruta_actual[pos - 1]].id, puertos[i].id, distancias)\n",
    "\n",
    "\n",
    "                if nueva_distancia < mejor_distancia:\n",
    "                    backtrack(pos + 1, nueva_distancia, nuevo_peso)\n",
    "\n",
    "                visitado[i] = False\n",
    "\n",
    "    visitado[0] = True\n",
    "    backtrack(1, 0, 0)\n",
    "\n",
    "    return [puertos[i].id for i in mejor_ruta], mejor_distancia, peso_final"
   ]
  },
  {
   "attachments": {},
   "cell_type": "markdown",
   "metadata": {},
   "source": [
    "<h3>Utilizamos el codigo"
   ]
  },
  {
   "cell_type": "code",
   "execution_count": 6,
   "metadata": {},
   "outputs": [],
   "source": [
    "import time"
   ]
  },
  {
   "cell_type": "code",
   "execution_count": 16,
   "metadata": {},
   "outputs": [
    {
     "name": "stdout",
     "output_type": "stream",
     "text": [
      "Mejor ruta: ['A', 'C', 'D', 'B', 'A']\n",
      "Mejor distancia: 80.0\n",
      "El peso: 8.0\n",
      "Se demoro 0.0 Segundos\n"
     ]
    }
   ],
   "source": [
    "# Ejemplo de uso\n",
    "puertos = []\n",
    "distancias = {}\n",
    "characters = 65\n",
    "\n",
    "nombre = input(\"Escriba el nombre del archivo(sin .txt): \")\n",
    "nombre = nombre + \".txt\"\n",
    "\n",
    "with open(nombre, mode=\"r\") as archivo:\n",
    "    for linea in archivo:\n",
    "        datos = linea.split()\n",
    "        if (len(datos) == 2):\n",
    "            puertos.append(puerto(chr(characters), float(datos[0]), float(datos[1])))\n",
    "            characters += 1\n",
    "        elif len(datos) == 3:\n",
    "            distancias[(datos[0], datos[1])] = float(datos[2])\n",
    "\n",
    "start = time.time()\n",
    "mejor_ruta, mejor_distancia, peso = viajero_ambulante_backtracking(puertos, distancias)\n",
    "end = time.time()\n",
    "\n",
    "if mejor_distancia == sys.maxsize:\n",
    "    print(\"No se puede recorrer todos los puertos debido a que 1 o más puertos se excede en su calado máximo\")\n",
    "else:\n",
    "    print(\"Mejor ruta:\", mejor_ruta)\n",
    "    print(\"Mejor distancia:\", mejor_distancia)\n",
    "    print(\"El peso:\", peso)\n",
    "    print(\"Se demoro\",end - start, \"Segundos\") "
   ]
  },
  {
   "cell_type": "code",
   "execution_count": null,
   "metadata": {},
   "outputs": [],
   "source": []
  }
 ],
 "metadata": {
  "kernelspec": {
   "display_name": "Python 3",
   "language": "python",
   "name": "python3"
  },
  "language_info": {
   "codemirror_mode": {
    "name": "ipython",
    "version": 3
   },
   "file_extension": ".py",
   "mimetype": "text/x-python",
   "name": "python",
   "nbconvert_exporter": "python",
   "pygments_lexer": "ipython3",
   "version": "3.10.10"
  },
  "orig_nbformat": 4
 },
 "nbformat": 4,
 "nbformat_minor": 2
}
